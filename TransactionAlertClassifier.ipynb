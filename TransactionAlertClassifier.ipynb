{
 "cells": [
  {
   "cell_type": "markdown",
   "id": "196a2a49",
   "metadata": {},
   "source": [
    "### Import Library"
   ]
  },
  {
   "cell_type": "code",
   "execution_count": 1,
   "id": "ef6b88f3",
   "metadata": {},
   "outputs": [],
   "source": [
    "import os\n",
    "import pandas as pd\n",
    "from sklearn.tree import DecisionTreeClassifier"
   ]
  },
  {
   "cell_type": "markdown",
   "id": "d14b0ff4",
   "metadata": {},
   "source": [
    "### Load Dataset"
   ]
  },
  {
   "cell_type": "code",
   "execution_count": 2,
   "id": "c07c2a30",
   "metadata": {},
   "outputs": [],
   "source": [
    "def LoadCSV(dir_path):\n",
    "    \"\"\"\n",
    "    讀取挑戰賽提供的3個資料集：交易資料、警示帳戶註記、待預測帳戶清單\n",
    "    Args:\n",
    "        dir_path (str): 資料夾，請把上述3個檔案放在同一個資料夾\n",
    "    \n",
    "    Returns:\n",
    "        df_txn: 交易資料 DataFrame\n",
    "        df_alert: 警示帳戶註記 DataFrame\n",
    "        df_test: 待預測帳戶清單 DataFrame\n",
    "    \"\"\"\n",
    "    df_txn = pd.read_csv(os.path.join(dir_path, 'acct_transaction.csv'))\n",
    "    df_alert = pd.read_csv(os.path.join(dir_path, 'acct_alert.csv'))\n",
    "    df_test = pd.read_csv(os.path.join(dir_path, 'acct_predict.csv'))\n",
    "    \n",
    "    print(\"(Finish) Load Dataset.\")\n",
    "    return df_txn, df_alert, df_test"
   ]
  },
  {
   "cell_type": "markdown",
   "id": "3c28dde3",
   "metadata": {},
   "source": [
    "### Preprocessing"
   ]
  },
  {
   "cell_type": "code",
   "execution_count": 7,
   "id": "6de3c288",
   "metadata": {},
   "outputs": [],
   "source": [
    "def PreProcessing(df):\n",
    "    \"\"\"\n",
    "    資料處理的範例程式，計算每個帳戶的一些統計量，當作模型因子\n",
    "    參賽者可自行發想、設計自己的因子\n",
    "    \"\"\"    \n",
    "    # 1. 'total_send/recv_amt': total amount sent/received by each acct\n",
    "    send = df.groupby('from_acct')['txn_amt'].sum().rename('total_send_amt')\n",
    "    recv = df.groupby('to_acct')['txn_amt'].sum().rename('total_recv_amt')\n",
    "\n",
    "    # 2. max, min, avg txn_amt for each account\n",
    "    max_send = df.groupby('from_acct')['txn_amt'].max().rename('max_send_amt')\n",
    "    min_send = df.groupby('from_acct')['txn_amt'].min().rename('min_send_amt')\n",
    "    avg_send = df.groupby('from_acct')['txn_amt'].mean().rename('avg_send_amt')\n",
    "    \n",
    "    max_recv = df.groupby('to_acct')['txn_amt'].max().rename('max_recv_amt')\n",
    "    min_recv = df.groupby('to_acct')['txn_amt'].min().rename('min_recv_amt')\n",
    "    avg_recv = df.groupby('to_acct')['txn_amt'].mean().rename('avg_recv_amt')\n",
    "\n",
    "    df_result = pd.concat([max_send, min_send, avg_send, max_recv, min_recv, avg_recv, send, recv], axis=1).fillna(0).reset_index()\n",
    "    df_result.rename(columns={'index': 'acct'}, inplace=True)\n",
    "    \n",
    "    # 3. 'is_esun': is esun account or not\n",
    "    df_from = df[['from_acct', 'from_acct_type']].rename(columns={'from_acct': 'acct', 'from_acct_type': 'is_esun'})\n",
    "    df_to = df[['to_acct', 'to_acct_type']].rename(columns={'to_acct': 'acct', 'to_acct_type': 'is_esun'})\n",
    "    df_acc = pd.concat([df_from, df_to], ignore_index=True).drop_duplicates().reset_index(drop=True)\n",
    "    \n",
    "    # 4. merge (1), (2), and (3)\n",
    "    df_result = pd.merge(df_result, df_acc, on='acct', how='left')\n",
    "\n",
    "    # 使用哈希表檢測雙向交易\n",
    "    txn_set = set(zip(df['from_acct'], df['to_acct']))\n",
    "    df['has_bidirectional_txn'] = df.apply(lambda row: (row['to_acct'], row['from_acct']) in txn_set, axis=1).astype(int)\n",
    "\n",
    "    print(\"(Finish) PreProcessing.\")\n",
    "    return df_result, df\n",
    "\n",
    "def CalculateBidirectionalProportion(df, df_alert):\n",
    "    \"\"\"\n",
    "    計算警示帳戶和非警示帳戶的雙向交易佔比\n",
    "    \"\"\"\n",
    "    # 標記警示帳戶\n",
    "    df['is_alert'] = df['from_acct'].isin(df_alert['acct']).astype(int)\n",
    "\n",
    "    # 計算雙向交易佔比\n",
    "    alert_bidirectional_ratio = df[df['is_alert'] == 1]['has_bidirectional_txn'].mean()\n",
    "    non_alert_bidirectional_ratio = df[df['is_alert'] == 0]['has_bidirectional_txn'].mean()\n",
    "\n",
    "    print(f\"警示帳戶雙向交易佔比: {alert_bidirectional_ratio:.2%}\")\n",
    "    print(f\"非警示帳戶雙向交易佔比: {non_alert_bidirectional_ratio:.2%}\")\n",
    "\n",
    "    return alert_bidirectional_ratio, non_alert_bidirectional_ratio"
   ]
  },
  {
   "cell_type": "markdown",
   "id": "e3c9f6bf",
   "metadata": {},
   "source": [
    "### Training"
   ]
  },
  {
   "cell_type": "code",
   "execution_count": 4,
   "id": "061e3962",
   "metadata": {},
   "outputs": [],
   "source": [
    "def TrainTestSplit(df, df_alert, df_test):\n",
    "    \"\"\"\n",
    "    切分訓練集及測試集，並為訓練集的帳戶標上警示label (0為非警示、1為警示)\n",
    "    \n",
    "    備註:\n",
    "        1. 測試集為待預測帳戶清單，你需要預測它們\n",
    "        2. 此切分僅為範例，較標準的做法是基於訓練集再且分成train和validation，請有興趣的參賽者自行切分\n",
    "        3. 由於待預測帳戶清單僅為玉山戶，所以我們在此範例僅使用玉山帳戶做訓練\n",
    "    \"\"\"  \n",
    "    X_train = df[(~df['acct'].isin(df_test['acct'])) & (df['is_esun']==1)].drop(columns=['is_esun']).copy()\n",
    "    y_train = X_train['acct'].isin(df_alert['acct']).astype(int)\n",
    "    X_test = df[df['acct'].isin(df_test['acct'])].drop(columns=['is_esun']).copy()\n",
    "    \n",
    "    print(f\"(Finish) Train-Test-Split\")\n",
    "    return X_train, X_test, y_train\n",
    "\n",
    "def Modeling(X_train, y_train, X_test):\n",
    "    \"\"\"\n",
    "    Decision Tree的範例程式，參賽者可以在這裡實作自己需要的方法\n",
    "    \"\"\"\n",
    "    model = DecisionTreeClassifier(random_state=42)\n",
    "    model.fit(X_train.drop(columns=['acct']), y_train)\n",
    "    y_pred = model.predict(X_test.drop(columns=['acct']))   \n",
    "    \n",
    "    print(f\"(Finish) Modeling\")\n",
    "    return y_pred"
   ]
  },
  {
   "cell_type": "markdown",
   "id": "12a924cb",
   "metadata": {},
   "source": [
    "### Output CSV File"
   ]
  },
  {
   "cell_type": "code",
   "execution_count": 5,
   "id": "ff14ca10",
   "metadata": {},
   "outputs": [],
   "source": [
    "def OutputCSV(path, df_test, X_test, y_pred):\n",
    "    \"\"\"\n",
    "    根據測試資料集及預測結果，產出預測結果之CSV，該CSV可直接上傳於TBrain    \n",
    "    \"\"\"\n",
    "    df_pred = pd.DataFrame({\n",
    "        'acct': X_test['acct'].values,\n",
    "        'label': y_pred\n",
    "    })\n",
    "    \n",
    "    df_out = df_test[['acct']].merge(df_pred, on='acct', how='left')\n",
    "    df_out.to_csv(path, index=False)    \n",
    "    \n",
    "    print(f\"(Finish) Output saved to {path}\")\n"
   ]
  },
  {
   "cell_type": "markdown",
   "id": "1157026a",
   "metadata": {},
   "source": [
    "### Main Function"
   ]
  },
  {
   "cell_type": "code",
   "execution_count": 9,
   "id": "2b1060fc",
   "metadata": {},
   "outputs": [
    {
     "name": "stdout",
     "output_type": "stream",
     "text": [
      "(Finish) Load Dataset.\n",
      "(Finish) PreProcessing.\n",
      "(Finish) PreProcessing.\n",
      "(Finish) Train-Test-Split\n",
      "(Finish) Train-Test-Split\n",
      "(Finish) Modeling\n",
      "(Finish) Output saved to result.csv\n",
      "(Finish) Modeling\n",
      "(Finish) Output saved to result.csv\n"
     ]
    }
   ],
   "source": [
    "dir_path = \"../preliminary_data/\"\n",
    "df_txn, df_alert, df_test = LoadCSV(dir_path)\n",
    "df_X, df_txn_processed = PreProcessing(df_txn)\n",
    "X_train, X_test, y_train = TrainTestSplit(df_X, df_alert, df_test)\n",
    "y_pred = Modeling(X_train, y_train, X_test)\n",
    "out_path = \"result.csv\"\n",
    "OutputCSV(out_path, df_test, X_test, y_pred)"
   ]
  },
  {
   "cell_type": "code",
   "execution_count": 10,
   "id": "748e0811",
   "metadata": {},
   "outputs": [
    {
     "data": {
      "text/html": [
       "<div>\n",
       "<style scoped>\n",
       "    .dataframe tbody tr th:only-of-type {\n",
       "        vertical-align: middle;\n",
       "    }\n",
       "\n",
       "    .dataframe tbody tr th {\n",
       "        vertical-align: top;\n",
       "    }\n",
       "\n",
       "    .dataframe thead th {\n",
       "        text-align: right;\n",
       "    }\n",
       "</style>\n",
       "<table border=\"1\" class=\"dataframe\">\n",
       "  <thead>\n",
       "    <tr style=\"text-align: right;\">\n",
       "      <th></th>\n",
       "      <th>from_acct</th>\n",
       "      <th>from_acct_type</th>\n",
       "      <th>to_acct</th>\n",
       "      <th>to_acct_type</th>\n",
       "      <th>is_self_txn</th>\n",
       "      <th>txn_amt</th>\n",
       "      <th>txn_date</th>\n",
       "      <th>txn_time</th>\n",
       "      <th>currency_type</th>\n",
       "      <th>channel_type</th>\n",
       "      <th>has_bidirectional_txn</th>\n",
       "    </tr>\n",
       "  </thead>\n",
       "  <tbody>\n",
       "    <tr>\n",
       "      <th>0</th>\n",
       "      <td>be6fdd2d0f9aa02b0b09436fb137654942e3346e16ab43...</td>\n",
       "      <td>1</td>\n",
       "      <td>7abb16ac9bddc1f464981131ba68506775a964df2e0734...</td>\n",
       "      <td>1</td>\n",
       "      <td>N</td>\n",
       "      <td>47500.0</td>\n",
       "      <td>71</td>\n",
       "      <td>05:05:00</td>\n",
       "      <td>TWD</td>\n",
       "      <td>04</td>\n",
       "      <td>0</td>\n",
       "    </tr>\n",
       "    <tr>\n",
       "      <th>1</th>\n",
       "      <td>18f3d0e79217f8bc8b4cb485f9f80a884771b846de652f...</td>\n",
       "      <td>1</td>\n",
       "      <td>e77e425fb5f3ece7a7b431b3c43cc1d040f3054e35479d...</td>\n",
       "      <td>2</td>\n",
       "      <td>UNK</td>\n",
       "      <td>6150.0</td>\n",
       "      <td>31</td>\n",
       "      <td>20:55:00</td>\n",
       "      <td>TWD</td>\n",
       "      <td>03</td>\n",
       "      <td>0</td>\n",
       "    </tr>\n",
       "    <tr>\n",
       "      <th>2</th>\n",
       "      <td>302f3911cbf56bf9b5ad209a4b045a82380f98d92604c1...</td>\n",
       "      <td>1</td>\n",
       "      <td>4a707a0af2aa824777082803013610090033104c308023...</td>\n",
       "      <td>1</td>\n",
       "      <td>N</td>\n",
       "      <td>1150000.0</td>\n",
       "      <td>37</td>\n",
       "      <td>09:20:00</td>\n",
       "      <td>TWD</td>\n",
       "      <td>04</td>\n",
       "      <td>0</td>\n",
       "    </tr>\n",
       "    <tr>\n",
       "      <th>3</th>\n",
       "      <td>5a4809796865b1526f46e5dda6a35c1a4def3cbe969cc8...</td>\n",
       "      <td>1</td>\n",
       "      <td>d16b1bf33802f020b508002755c13aad549bc59dde7aae...</td>\n",
       "      <td>2</td>\n",
       "      <td>UNK</td>\n",
       "      <td>8550.0</td>\n",
       "      <td>106</td>\n",
       "      <td>13:40:00</td>\n",
       "      <td>TWD</td>\n",
       "      <td>04</td>\n",
       "      <td>0</td>\n",
       "    </tr>\n",
       "    <tr>\n",
       "      <th>4</th>\n",
       "      <td>7f84214987bdee16ffbaf3d70824e6385ce80e032a24c5...</td>\n",
       "      <td>1</td>\n",
       "      <td>c2e0f75b54f394b29755779ab9a488931e9d893a0e5f8f...</td>\n",
       "      <td>1</td>\n",
       "      <td>N</td>\n",
       "      <td>1450.0</td>\n",
       "      <td>84</td>\n",
       "      <td>11:20:00</td>\n",
       "      <td>TWD</td>\n",
       "      <td>03</td>\n",
       "      <td>0</td>\n",
       "    </tr>\n",
       "  </tbody>\n",
       "</table>\n",
       "</div>"
      ],
      "text/plain": [
       "                                           from_acct  from_acct_type  \\\n",
       "0  be6fdd2d0f9aa02b0b09436fb137654942e3346e16ab43...               1   \n",
       "1  18f3d0e79217f8bc8b4cb485f9f80a884771b846de652f...               1   \n",
       "2  302f3911cbf56bf9b5ad209a4b045a82380f98d92604c1...               1   \n",
       "3  5a4809796865b1526f46e5dda6a35c1a4def3cbe969cc8...               1   \n",
       "4  7f84214987bdee16ffbaf3d70824e6385ce80e032a24c5...               1   \n",
       "\n",
       "                                             to_acct  to_acct_type  \\\n",
       "0  7abb16ac9bddc1f464981131ba68506775a964df2e0734...             1   \n",
       "1  e77e425fb5f3ece7a7b431b3c43cc1d040f3054e35479d...             2   \n",
       "2  4a707a0af2aa824777082803013610090033104c308023...             1   \n",
       "3  d16b1bf33802f020b508002755c13aad549bc59dde7aae...             2   \n",
       "4  c2e0f75b54f394b29755779ab9a488931e9d893a0e5f8f...             1   \n",
       "\n",
       "  is_self_txn    txn_amt  txn_date  txn_time currency_type channel_type  \\\n",
       "0           N    47500.0        71  05:05:00           TWD           04   \n",
       "1         UNK     6150.0        31  20:55:00           TWD           03   \n",
       "2           N  1150000.0        37  09:20:00           TWD           04   \n",
       "3         UNK     8550.0       106  13:40:00           TWD           04   \n",
       "4           N     1450.0        84  11:20:00           TWD           03   \n",
       "\n",
       "   has_bidirectional_txn  \n",
       "0                      0  \n",
       "1                      0  \n",
       "2                      0  \n",
       "3                      0  \n",
       "4                      0  "
      ]
     },
     "execution_count": 10,
     "metadata": {},
     "output_type": "execute_result"
    }
   ],
   "source": [
    "df_txn.head()"
   ]
  },
  {
   "cell_type": "code",
   "execution_count": 11,
   "id": "ce368c70",
   "metadata": {},
   "outputs": [
    {
     "name": "stdout",
     "output_type": "stream",
     "text": [
      "['TWD' 'USD' 'JPY' 'AUD' 'CNY' 'EUR' 'SEK' 'GBP' 'HKD' 'THB' 'CAD' 'NZD'\n",
      " 'CHF' 'SGD' 'ZAR' 'MXN']\n"
     ]
    }
   ],
   "source": [
    "# 查看 \"currency_type\" 欄位中的唯一值\n",
    "unique_currency_types = df_txn['currency_type'].unique()\n",
    "print(unique_currency_types)"
   ]
  },
  {
   "cell_type": "code",
   "execution_count": 13,
   "id": "cf966aab",
   "metadata": {},
   "outputs": [
    {
     "name": "stdout",
     "output_type": "stream",
     "text": [
      "警示帳戶雙向交易佔比: 20.00%\n",
      "非警示帳戶雙向交易佔比: 17.03%\n"
     ]
    },
    {
     "data": {
      "text/plain": [
       "(np.float64(0.19996874267406423), np.float64(0.17034052867529578))"
      ]
     },
     "execution_count": 13,
     "metadata": {},
     "output_type": "execute_result"
    }
   ],
   "source": [
    "CalculateBidirectionalProportion(df_txn_processed, df_alert)"
   ]
  }
 ],
 "metadata": {
  "kernelspec": {
   "display_name": "DM2025-Lab1-Exercise",
   "language": "python",
   "name": "python3"
  },
  "language_info": {
   "codemirror_mode": {
    "name": "ipython",
    "version": 3
   },
   "file_extension": ".py",
   "mimetype": "text/x-python",
   "name": "python",
   "nbconvert_exporter": "python",
   "pygments_lexer": "ipython3",
   "version": "3.11.0"
  }
 },
 "nbformat": 4,
 "nbformat_minor": 5
}
